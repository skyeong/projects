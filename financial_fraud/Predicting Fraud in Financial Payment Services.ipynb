{
 "cells": [
  {
   "cell_type": "markdown",
   "metadata": {},
   "source": [
    "This dataset is presently only one of four on Kaggle with information on the rising risk of digital financial fraud, emphasizing the difficulty in obtaining such data. The main technical challenge it posses to predicting fraud is the highly imbalanced distribution between positive and negative classes in 6 million rows of data. Another strumbling block to the utility of this data stems from the possible discrepancies in its description. The goal of this analysis is to solve both these issues by a detailed data exploration and cleaning followed by choosing a suitable machine-learning algorithm to deal with the skew. I show that an optimal solution based on feature-engineering and extreme gradient-boosted decision trees yields an enhanced predictive power of 0.997, as measured by the area under the precision-recal curve. Crucially, these results were obtianed without artificial balancing of the data making this approach suitable to real-world applications. "
   ]
  },
  {
   "cell_type": "markdown",
   "metadata": {},
   "source": [
    "# 1. Importing Libraries and Load data"
   ]
  },
  {
   "cell_type": "code",
   "execution_count": 2,
   "metadata": {},
   "outputs": [],
   "source": [
    "import pandas as pd\n",
    "import numpy as np\n",
    "%matplotlib inline\n",
    "import matplotlib.pyplot as plt\n",
    "import matplotlib.lines as mlines\n",
    "from mpl_toolkits.mplot3d import Axes3D\n",
    "import seaborn as sns\n",
    "from sklearn.model_selection import train_test_split, learning_curve\n",
    "from sklearn.metrics import average_precision_score\n",
    "# from xgboost.sklearn import XGBClassifier\n",
    "# from xgboost import plot_importance, to_graphviz\n",
    "\n",
    "import warnings\n",
    "warnings.filterwarnings(\"ignore\",category=DeprecationWarning)"
   ]
  },
  {
   "cell_type": "markdown",
   "metadata": {},
   "source": [
    "### Loading data"
   ]
  },
  {
   "cell_type": "code",
   "execution_count": 4,
   "metadata": {},
   "outputs": [
    {
     "data": {
      "text/html": [
       "<div>\n",
       "<style scoped>\n",
       "    .dataframe tbody tr th:only-of-type {\n",
       "        vertical-align: middle;\n",
       "    }\n",
       "\n",
       "    .dataframe tbody tr th {\n",
       "        vertical-align: top;\n",
       "    }\n",
       "\n",
       "    .dataframe thead th {\n",
       "        text-align: right;\n",
       "    }\n",
       "</style>\n",
       "<table border=\"1\" class=\"dataframe\">\n",
       "  <thead>\n",
       "    <tr style=\"text-align: right;\">\n",
       "      <th></th>\n",
       "      <th>step</th>\n",
       "      <th>type</th>\n",
       "      <th>amount</th>\n",
       "      <th>nameOrig</th>\n",
       "      <th>oldBananceOrig</th>\n",
       "      <th>newBalanceOrig</th>\n",
       "      <th>nameDest</th>\n",
       "      <th>oldBalanceDest</th>\n",
       "      <th>newBalanceDest</th>\n",
       "      <th>isFraud</th>\n",
       "      <th>isFlaggedFraud</th>\n",
       "    </tr>\n",
       "  </thead>\n",
       "  <tbody>\n",
       "    <tr>\n",
       "      <td>0</td>\n",
       "      <td>1</td>\n",
       "      <td>PAYMENT</td>\n",
       "      <td>9839.64</td>\n",
       "      <td>C1231006815</td>\n",
       "      <td>170136.0</td>\n",
       "      <td>160296.36</td>\n",
       "      <td>M1979787155</td>\n",
       "      <td>0.0</td>\n",
       "      <td>0.0</td>\n",
       "      <td>0</td>\n",
       "      <td>0</td>\n",
       "    </tr>\n",
       "    <tr>\n",
       "      <td>1</td>\n",
       "      <td>1</td>\n",
       "      <td>PAYMENT</td>\n",
       "      <td>1864.28</td>\n",
       "      <td>C1666544295</td>\n",
       "      <td>21249.0</td>\n",
       "      <td>19384.72</td>\n",
       "      <td>M2044282225</td>\n",
       "      <td>0.0</td>\n",
       "      <td>0.0</td>\n",
       "      <td>0</td>\n",
       "      <td>0</td>\n",
       "    </tr>\n",
       "    <tr>\n",
       "      <td>2</td>\n",
       "      <td>1</td>\n",
       "      <td>TRANSFER</td>\n",
       "      <td>181.00</td>\n",
       "      <td>C1305486145</td>\n",
       "      <td>181.0</td>\n",
       "      <td>0.00</td>\n",
       "      <td>C553264065</td>\n",
       "      <td>0.0</td>\n",
       "      <td>0.0</td>\n",
       "      <td>1</td>\n",
       "      <td>0</td>\n",
       "    </tr>\n",
       "    <tr>\n",
       "      <td>3</td>\n",
       "      <td>1</td>\n",
       "      <td>CASH_OUT</td>\n",
       "      <td>181.00</td>\n",
       "      <td>C840083671</td>\n",
       "      <td>181.0</td>\n",
       "      <td>0.00</td>\n",
       "      <td>C38997010</td>\n",
       "      <td>21182.0</td>\n",
       "      <td>0.0</td>\n",
       "      <td>1</td>\n",
       "      <td>0</td>\n",
       "    </tr>\n",
       "    <tr>\n",
       "      <td>4</td>\n",
       "      <td>1</td>\n",
       "      <td>PAYMENT</td>\n",
       "      <td>11668.14</td>\n",
       "      <td>C2048537720</td>\n",
       "      <td>41554.0</td>\n",
       "      <td>29885.86</td>\n",
       "      <td>M1230701703</td>\n",
       "      <td>0.0</td>\n",
       "      <td>0.0</td>\n",
       "      <td>0</td>\n",
       "      <td>0</td>\n",
       "    </tr>\n",
       "  </tbody>\n",
       "</table>\n",
       "</div>"
      ],
      "text/plain": [
       "   step      type    amount     nameOrig  oldBananceOrig  newBalanceOrig  \\\n",
       "0     1   PAYMENT   9839.64  C1231006815        170136.0       160296.36   \n",
       "1     1   PAYMENT   1864.28  C1666544295         21249.0        19384.72   \n",
       "2     1  TRANSFER    181.00  C1305486145           181.0            0.00   \n",
       "3     1  CASH_OUT    181.00   C840083671           181.0            0.00   \n",
       "4     1   PAYMENT  11668.14  C2048537720         41554.0        29885.86   \n",
       "\n",
       "      nameDest  oldBalanceDest  newBalanceDest  isFraud  isFlaggedFraud  \n",
       "0  M1979787155             0.0             0.0        0               0  \n",
       "1  M2044282225             0.0             0.0        0               0  \n",
       "2   C553264065             0.0             0.0        1               0  \n",
       "3    C38997010         21182.0             0.0        1               0  \n",
       "4  M1230701703             0.0             0.0        0               0  "
      ]
     },
     "execution_count": 4,
     "metadata": {},
     "output_type": "execute_result"
    }
   ],
   "source": [
    "pdf = pd.read_csv(\"data/PS_20174392719_1491204439457_log.csv\")\n",
    "pdf = pdf.rename(columns={\"oldbalanceOrg\":\"oldBananceOrig\",\"newbalanceOrig\":\"newBalanceOrig\",\n",
    "                         \"oldbalanceDest\":\"oldBalanceDest\",\"newbalanceDest\":\"newBalanceDest\"})\n",
    "pdf.head()"
   ]
  },
  {
   "cell_type": "markdown",
   "metadata": {},
   "source": [
    "Test if there any missing values. It turns out there are no obvious missing values but, as we will see below, this does not rule out proxies by a numerical value like 0."
   ]
  },
  {
   "cell_type": "code",
   "execution_count": 5,
   "metadata": {},
   "outputs": [
    {
     "data": {
      "text/plain": [
       "False"
      ]
     },
     "execution_count": 5,
     "metadata": {},
     "output_type": "execute_result"
    }
   ],
   "source": [
    "pdf.isnull().values.any()"
   ]
  },
  {
   "cell_type": "markdown",
   "metadata": {},
   "source": [
    "# 2. Exploratory Data Analysis\n",
    "In this section and ultil section 4, we wrangle with the data exclusively using Dataframe methods. This is the most succinct way to gain insights into the dataset. More elaborate visualizations follow in subsequent sections.\n",
    "\n",
    "### 2.1 Which types of transactions are fraudulent?\n",
    "We find that of the five types of transactions, fraud occurs only in two of them (see also kernels by [Net](https://www.kaggle.com/netzone/eda-and-fraud-detection), [Phillip Schmidt](https://www.kaggle.com/philschmidt/where-s-the-money-lebowski) and [Ibe_Noriaki](https://www.kaggle.com/ibenoriaki/three-features-with-kneighbors-auc-score-is-0-998)): 'TRANSFER' where money is sent to a customer / fraudster and 'CASH_OUT' where money is sent to a merchang who pays the customer / fraudster in cash. Remarkable, the number of fraudulent TRANSFERs almost equals the number of fraudulent CASH_OUTs (see the right half of the plot in section 5.1). These observations appear, at frst, to bear out the description provided on Kaggle for the modus operandi of fraudulent transactions in this dataset, namely, fraud is committed by first transferring out funds to another account which subsequently cashes it out. We will return to this issue later in section 2.4."
   ]
  },
  {
   "cell_type": "code",
   "execution_count": 8,
   "metadata": {},
   "outputs": [
    {
     "name": "stdout",
     "output_type": "stream",
     "text": [
      "\n",
      " The types of fraudulent transactions are ['TRANSFER', 'CASH_OUT']\n",
      "\n",
      " The number of fraudulent TRANSFERs = 4097\n",
      "\n",
      " The number of fraudulent CASH_OUTs = 4116\n"
     ]
    }
   ],
   "source": [
    "print(\"\\n The types of fraudulent transactions are {}\".format(list(pdf.loc[pdf.isFraud == 1].type.drop_duplicates().values)))\n",
    "\n",
    "pdfFraudTransfer = pdf.loc[(pdf.isFraud == 1) & (pdf.type == 'TRANSFER')]\n",
    "pdfFraudCashout = pdf.loc[(pdf.isFraud == 1) & (pdf.type == 'CASH_OUT')]\n",
    "\n",
    "print(\"\\n The number of fraudulent TRANSFERs = {}\".format(len(pdfFraudTransfer)))  # 4097\n",
    "print(\"\\n The number of fraudulent CASH_OUTs = {}\".format(len(pdfFraudCashout)))  # 4116\n"
   ]
  },
  {
   "cell_type": "markdown",
   "metadata": {},
   "source": [
    "### 2.1 What determines weather the feature isFlaggedFraud gets set or not?\n",
    "\n",
    "it turns out that the origin of _isFlaggedFraud_ is unclear, contrasting with the description provided. The 16 entries (out of 6 million) where the _isFlaggedFraud_ feature is set do not seem to corrleate with any explanatory variable. The data is described as _isFlaggedFraud_ being set whtn an attemp is made to 'TRANSFER' an 'amount' greater than 200,000. In fact, as shown below, _isFlaggedFraud_ can remain not set despite this condition being met.\n"
   ]
  },
  {
   "cell_type": "code",
   "execution_count": 11,
   "metadata": {},
   "outputs": [
    {
     "name": "stdout",
     "output_type": "stream",
     "text": [
      "\n",
      "The type of transactions in which isFlaggedFraud is set:['TRANSFER']\n",
      "\n",
      "Min amount transacted when isFlaggedFraud is set = 353874.22\n",
      "\n",
      "Max amount transacted when isFlaggedFraud is not set = 92445516.64\n"
     ]
    }
   ],
   "source": [
    "print(\"\\nThe type of transactions in which isFlaggedFraud is set:{}\".format(list(pdf.loc[pdf.isFlaggedFraud == 1].type.drop_duplicates())))\n",
    "\n",
    "pdfTransfer = pdf.loc[pdf.type == 'TRANSFER']\n",
    "pdfFlagged = pdf.loc[pdf.isFlaggedFraud == 1]\n",
    "pdfNotFlagged = pdf.loc[pdf.isFlaggedFraud == 0]\n",
    "\n",
    "print(\"\\nMin amount transacted when isFlaggedFraud is set = {}\".format(pdfFlagged.amount.min()))\n",
    "print(\"\\nMax amount transacted when isFlaggedFraud is not set = {}\".format(pdfTransfer.loc[pdfTransfer.isFlaggedFraud == 0].amount.max()))\n"
   ]
  },
  {
   "cell_type": "markdown",
   "metadata": {},
   "source": [
    "Can _oldBalanceDest_ and _newBalanceDest_ determine _isFlaggedFraud_ being set? The old is identical to the new balance in the origin and destination accounts, for every TRANSFER where _isFlaggedFraud_ is set. This is presumably because the transaction is halted. Interestingly, _oldBalanceDest_ = 0 in every such transaction. However, as shown below, since _isFlaggedFraud_ can remain not set in TRANSFERS where _oldBalanceDest_ and _newBalanceDest_ can both be -, these conditions do not determine the state of _isFlaggedFraud_."
   ]
  },
  {
   "cell_type": "code",
   "execution_count": 13,
   "metadata": {},
   "outputs": [
    {
     "name": "stdout",
     "output_type": "stream",
     "text": [
      "\n",
      "The number of TRANSFERs where isFlaggedFraud = 0, yet oldBalanceDest = 0 and newBalanceDest = 0: 4158\n"
     ]
    }
   ],
   "source": [
    "print(\"\\nThe number of TRANSFERs where isFlaggedFraud = 0, yet oldBalanceDest = 0 and newBalanceDest = 0: {}\".\\\n",
    "     format(len(pdfTransfer.loc[(pdfTransfer.isFlaggedFraud == 0) & \\\n",
    "                                (pdfTransfer.oldBalanceDest == 0) & \\\n",
    "                                (pdfTransfer.newBalanceDest == 0)]))) # 4158"
   ]
  },
  {
   "cell_type": "markdown",
   "metadata": {},
   "source": [
    "_isFlaggedFraud_ being set cannot be thresholded on _oldBalanceOrig_ since the corresponding range of values overlaps with that for TRANSFERs where _isFlaggedFraud_ is not set (see below). Note that we do not need to consider _newBalanceOrig_ since it is updated only after the transaction, whereas _isFlaggedFraud_ would be set before the transaction takes place."
   ]
  },
  {
   "cell_type": "code",
   "execution_count": null,
   "metadata": {},
   "outputs": [],
   "source": []
  }
 ],
 "metadata": {
  "kernelspec": {
   "display_name": "Python 3",
   "language": "python",
   "name": "python3"
  },
  "language_info": {
   "codemirror_mode": {
    "name": "ipython",
    "version": 3
   },
   "file_extension": ".py",
   "mimetype": "text/x-python",
   "name": "python",
   "nbconvert_exporter": "python",
   "pygments_lexer": "ipython3",
   "version": "3.7.6"
  }
 },
 "nbformat": 4,
 "nbformat_minor": 4
}
